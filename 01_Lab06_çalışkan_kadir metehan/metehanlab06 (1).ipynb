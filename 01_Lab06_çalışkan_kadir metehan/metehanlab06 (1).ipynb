{
 "cells": [
  {
   "cell_type": "markdown",
   "metadata": {},
   "source": [
    "# CS 115 - Introduction to Programming in Python\n",
    "## Lab 06\n",
    "\n",
    "### Lab Objectives:  Two-D Lists, numpy arrays\n",
    "\n",
    "**Instructions:** \n",
    "- In this lab, you will use Jupyter Notebook. Write your solutions in this notebook, put it in a .zip file named SS_Lab06_Surname_FirstName.zip where SS is the section number 01, 02, 03, etc. and upload it to the Lab06 assignment for your section on Moodle by 17:30 on Friday, November 27. \n",
    "- In Question 2, do not use any loops; you should only use numpy functions.\n",
    "- Solutions sent through email will not be accepted.\n",
    "- You should only use functionality covered in CS115 in your solution.\n"
   ]
  },
  {
   "cell_type": "markdown",
   "metadata": {},
   "source": [
    "## <font color=red>Question 1</font> \n",
    "### You will write code to store and manipulate two dimensional lists of data. Complete the steps below."
   ]
  },
  {
   "cell_type": "markdown",
   "metadata": {},
   "source": [
    "Write a function, ***sum_lower()*** that takes a two-dimensional list of integers as a parameter.  The function should return the sum of the lower triangular elements."
   ]
  },
  {
   "cell_type": "code",
   "execution_count": 1,
   "metadata": {},
   "outputs": [],
   "source": [
    "##function to return sum of lower tiangular matrix\n",
    "def sum_lower(matt):\n",
    "    ans = 0\n",
    "    for row in range(len(matt)):\n",
    "        for column in range(len(matt[row])):\n",
    "            if(column<=row):\n",
    "                ans+=matt[row][column]\n",
    "    return ans"
   ]
  },
  {
   "cell_type": "markdown",
   "metadata": {},
   "source": [
    "Write a function, ***sum_major()*** that takes a two-dimensional list of integers as a parameter.  The function should return the sum of the major diagonal elements."
   ]
  },
  {
   "cell_type": "code",
   "execution_count": 2,
   "metadata": {},
   "outputs": [],
   "source": [
    "##function to return Sum of the major diagonal element\n",
    "def sum_major(matt):\n",
    "    ans = 0\n",
    "    for row in range(len(matt)):\n",
    "        for column in range(len(matt[row])):\n",
    "            if(column==row):\n",
    "                ans+=matt[row][column]\n",
    "    return ans"
   ]
  },
  {
   "cell_type": "markdown",
   "metadata": {},
   "source": [
    "Using the function above write code that initializes a two dimensional list of integer values, and displays the data shown in the sample run below.\n",
    "\n",
    "Sample Run:\n",
    "\n",
    "Table:\n",
    "\n",
    "[3, 4, 8, 6]\n",
    "\n",
    "[6, 2, 2, 5]\n",
    "\n",
    "[8, 7, 7, 9]\n",
    "\n",
    "[4, 6, 2, 3]\n",
    "\n",
    "Sum of the lower triangular elements:  48\n",
    "\n",
    "Sum of the major diagonal elements:  15\n",
    "\n"
   ]
  },
  {
   "cell_type": "code",
   "execution_count": 3,
   "metadata": {},
   "outputs": [
    {
     "name": "stdout",
     "output_type": "stream",
     "text": [
      "table:\n",
      "[3, 4, 8, 6]\n",
      "[6, 2, 2, 5]\n",
      "[8, 7, 7, 9]\n",
      "[4, 6, 2, 3]\n",
      "Sum of Lower Triangular element :  48\n",
      "Sum of the major diagonal element :  15\n"
     ]
    }
   ],
   "source": [
    "matt = [[3,4,8,6],[6,2,2,5],[8,7,7,9],[4,6,2,3]]\n",
    "print('table:')\n",
    "for row in range(len(matt)):\n",
    "    print(matt[row])\n",
    "print(\"Sum of Lower Triangular element : \",sum_lower(matt))\n",
    "print(\"Sum of the major diagonal element : \",sum_major(matt))"
   ]
  },
  {
   "cell_type": "markdown",
   "metadata": {},
   "source": [
    "## <font color=red>Question 2</font> \n",
    "### You will use numpy arrays to store and manipulate data from files.  Do no use any loops. Complete the steps listed below:"
   ]
  },
  {
   "cell_type": "markdown",
   "metadata": {},
   "source": [
    "import numpy for use in your code"
   ]
  },
  {
   "cell_type": "code",
   "execution_count": 1,
   "metadata": {},
   "outputs": [],
   "source": [
    "import numpy as np"
   ]
  },
  {
   "cell_type": "markdown",
   "metadata": {},
   "source": [
    "Read data from the files grades.txt and weights.txt into two numpy arrays.  The file grades.txt contains an array of student exam grades.  Each row in the file stores the scores for each student (Quiz1, Quiz2, Homework, Midterm, Final). The file weights.txt stores the exam weights for each assessment. After inputting the weights, they should be converted to a decimal percentage. Ex 10% becomes 0.10."
   ]
  },
  {
   "cell_type": "code",
   "execution_count": 2,
   "metadata": {},
   "outputs": [],
   "source": [
    "grades=np.loadtxt('grades.txt',skiprows=1)\n",
    "weights=np.loadtxt('weights.txt',skiprows=2)\n",
    "weights/=100"
   ]
  },
  {
   "cell_type": "markdown",
   "metadata": {},
   "source": [
    "Display the grades and the weights."
   ]
  },
  {
   "cell_type": "code",
   "execution_count": 3,
   "metadata": {
    "scrolled": true
   },
   "outputs": [
    {
     "name": "stdout",
     "output_type": "stream",
     "text": [
      "[[ 70.  67.  85.  92.  75.]\n",
      " [ 80.  76.  90.  86.  88.]\n",
      " [ 60.  82.  45.  71.  68.]\n",
      " [ 88.  92.  77.  64.  80.]\n",
      " [100.  97. 100.  92.  85.]\n",
      " [ 74.  51.  62.  43.  79.]]\n",
      "[0.1  0.1  0.15 0.3  0.35]\n"
     ]
    }
   ],
   "source": [
    "print(grades)\n",
    "print(weights)"
   ]
  },
  {
   "cell_type": "markdown",
   "metadata": {},
   "source": [
    "Sum the grades for each assessment and store in a new array."
   ]
  },
  {
   "cell_type": "code",
   "execution_count": 5,
   "metadata": {},
   "outputs": [
    {
     "name": "stdout",
     "output_type": "stream",
     "text": [
      "[472. 465. 459. 448. 475.]\n"
     ]
    }
   ],
   "source": [
    "sum_of_grades=np.array(np.sum(grades,axis=0))\n",
    "print(sum_of_grades)"
   ]
  },
  {
   "cell_type": "markdown",
   "metadata": {},
   "source": [
    "Calculate the average score for each assessment and store in a new array. Hint: use the sums calculated above."
   ]
  },
  {
   "cell_type": "code",
   "execution_count": 5,
   "metadata": {},
   "outputs": [
    {
     "name": "stdout",
     "output_type": "stream",
     "text": [
      "[78.66666667 77.5        76.5        74.66666667 79.16666667]\n"
     ]
    }
   ],
   "source": [
    "avrg_grades=np.array(np.mean(grades,axis=0))\n",
    "print(avrg_grades)"
   ]
  },
  {
   "cell_type": "markdown",
   "metadata": {},
   "source": [
    "Calculate and display the average overall score. The overall score can be found by multiplying the weights of the \n",
    "assessments by the average score for each assesssment."
   ]
  },
  {
   "cell_type": "code",
   "execution_count": 6,
   "metadata": {},
   "outputs": [
    {
     "name": "stdout",
     "output_type": "stream",
     "text": [
      "77.2\n"
     ]
    }
   ],
   "source": [
    "overall=np.array(np.dot(avrg_grades,weights))\n",
    "print(overall)"
   ]
  },
  {
   "cell_type": "markdown",
   "metadata": {},
   "source": [
    "Calculate the overall grades for each student and store in an array.  Write the array to the file student_overall.txt"
   ]
  },
  {
   "cell_type": "code",
   "execution_count": 8,
   "metadata": {},
   "outputs": [],
   "source": [
    "overall_grades=np.array(np.sum(grades*weights,axis=1))\n",
    "np.savetxt('student_overall.txt',overall_grades,fmt='%.2f')"
   ]
  },
  {
   "cell_type": "code",
   "execution_count": null,
   "metadata": {},
   "outputs": [],
   "source": []
  },
  {
   "cell_type": "code",
   "execution_count": null,
   "metadata": {},
   "outputs": [],
   "source": []
  }
 ],
 "metadata": {
  "kernelspec": {
   "display_name": "Python 3",
   "language": "python",
   "name": "python3"
  },
  "language_info": {
   "codemirror_mode": {
    "name": "ipython",
    "version": 3
   },
   "file_extension": ".py",
   "mimetype": "text/x-python",
   "name": "python",
   "nbconvert_exporter": "python",
   "pygments_lexer": "ipython3",
   "version": "3.7.6"
  }
 },
 "nbformat": 4,
 "nbformat_minor": 2
}
